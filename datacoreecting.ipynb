{
 "cells": [
  {
   "cell_type": "code",
   "execution_count": 1,
   "id": "bf16bbe4",
   "metadata": {},
   "outputs": [
    {
     "name": "stdout",
     "output_type": "stream",
     "text": [
      "video_id                   object\n",
      "trending_date              object\n",
      "title                      object\n",
      "channel_title              object\n",
      "category_id                 int64\n",
      "publish_time               object\n",
      "tags                       object\n",
      "views                       int64\n",
      "likes                       int64\n",
      "dislikes                    int64\n",
      "comment_count               int64\n",
      "thumbnail_link             object\n",
      "comments_disabled            bool\n",
      "ratings_disabled             bool\n",
      "video_error_or_removed       bool\n",
      "description                object\n",
      "country                    object\n",
      "title_sentiment           float64\n",
      "tag_sentiment             float64\n",
      "title_sentiment_label      object\n",
      "tag_sentiment_label        object\n",
      "trending_duration           int64\n",
      "dtype: object\n"
     ]
    }
   ],
   "source": [
    "import pandas as pd\n",
    "\n",
    "df = pd.read_csv('final_ready_for_powerbi.csv')\n",
    "\n",
    "print(df.dtypes)\n"
   ]
  },
  {
   "cell_type": "code",
   "execution_count": 2,
   "id": "5c45ca6f",
   "metadata": {},
   "outputs": [],
   "source": [
    "df['views'] = pd.to_numeric(df['views'], errors='coerce')\n",
    "df['likes'] = pd.to_numeric(df['likes'], errors='coerce')\n",
    "df['comment_count'] = pd.to_numeric(df['comment_count'], errors='coerce')\n",
    "df['trending_duration'] = pd.to_numeric(df['trending_duration'], errors='coerce')\n"
   ]
  },
  {
   "cell_type": "code",
   "execution_count": 3,
   "id": "3daa31d0",
   "metadata": {},
   "outputs": [
    {
     "name": "stdout",
     "output_type": "stream",
     "text": [
      "video_id                     0\n",
      "trending_date                0\n",
      "title                        0\n",
      "channel_title                0\n",
      "category_id                  0\n",
      "publish_time                 0\n",
      "tags                         0\n",
      "views                        0\n",
      "likes                        0\n",
      "dislikes                     0\n",
      "comment_count                0\n",
      "thumbnail_link               0\n",
      "comments_disabled            0\n",
      "ratings_disabled             0\n",
      "video_error_or_removed       0\n",
      "description               1743\n",
      "country                      0\n",
      "title_sentiment              0\n",
      "tag_sentiment                0\n",
      "title_sentiment_label        0\n",
      "tag_sentiment_label          0\n",
      "trending_duration            0\n",
      "dtype: int64\n"
     ]
    }
   ],
   "source": [
    "print(df.isnull().sum())\n"
   ]
  },
  {
   "cell_type": "code",
   "execution_count": null,
   "id": "ce736c58",
   "metadata": {},
   "outputs": [],
   "source": [
    "df = df.dropna(subset=['views', 'likes', 'trending_duration'])\n"
   ]
  },
  {
   "cell_type": "code",
   "execution_count": 4,
   "id": "6e6de837",
   "metadata": {},
   "outputs": [],
   "source": [
    "df['views'] = pd.to_numeric(df['views'], errors='coerce')\n",
    "df['likes'] = pd.to_numeric(df['likes'], errors='coerce')\n",
    "df['dislikes'] = pd.to_numeric(df['dislikes'], errors='coerce')\n",
    "df['comment_count'] = pd.to_numeric(df['comment_count'], errors='coerce')\n",
    "df['trending_duration'] = pd.to_numeric(df['trending_duration'], errors='coerce')\n"
   ]
  },
  {
   "cell_type": "code",
   "execution_count": 5,
   "id": "d4b4cf74",
   "metadata": {},
   "outputs": [
    {
     "name": "stdout",
     "output_type": "stream",
     "text": [
      "✅ Saved final clean file: 'final_ready_for_powerbi_clean.csv'\n"
     ]
    }
   ],
   "source": [
    "df.to_csv('final_ready_for_powerbi_clean.csv', index=False)\n",
    "print(\"✅ Saved final clean file: 'final_ready_for_powerbi_clean.csv'\")\n"
   ]
  },
  {
   "cell_type": "code",
   "execution_count": 6,
   "id": "cd4011a5",
   "metadata": {},
   "outputs": [],
   "source": [
    "df=pd.read_csv('final_ready_for_powerbi_clean.csv')"
   ]
  },
  {
   "cell_type": "code",
   "execution_count": 7,
   "id": "2bf7b596",
   "metadata": {},
   "outputs": [],
   "source": [
    "df['views'] = pd.to_numeric(df['views'], errors='coerce')\n",
    "df['likes'] = pd.to_numeric(df['likes'], errors='coerce')\n",
    "df['dislikes'] = pd.to_numeric(df['dislikes'], errors='coerce')\n",
    "df['comment_count'] = pd.to_numeric(df['comment_count'], errors='coerce')\n",
    "df['trending_duration'] = pd.to_numeric(df['trending_duration'], errors='coerce')"
   ]
  },
  {
   "cell_type": "code",
   "execution_count": 8,
   "id": "095db00c",
   "metadata": {},
   "outputs": [],
   "source": [
    "# Drop rows where views or likes are NaN after coercion\n",
    "df = df.dropna(subset=['views', 'likes', 'comment_count', 'trending_duration'])\n"
   ]
  },
  {
   "cell_type": "code",
   "execution_count": 10,
   "id": "4a1d8692",
   "metadata": {},
   "outputs": [
    {
     "name": "stdout",
     "output_type": "stream",
     "text": [
      "✅ Saved final CLEAN file: 'final_ready_for_powerbi_clean.csv'\n"
     ]
    }
   ],
   "source": [
    "df.to_csv('final_ready_for_powerbi_clean1.csv', index=False)\n",
    "print(\"✅ Saved final CLEAN file: 'final_ready_for_powerbi_clean.csv'\")\n"
   ]
  }
 ],
 "metadata": {
  "kernelspec": {
   "display_name": "Python 3",
   "language": "python",
   "name": "python3"
  },
  "language_info": {
   "codemirror_mode": {
    "name": "ipython",
    "version": 3
   },
   "file_extension": ".py",
   "mimetype": "text/x-python",
   "name": "python",
   "nbconvert_exporter": "python",
   "pygments_lexer": "ipython3",
   "version": "3.13.3"
  }
 },
 "nbformat": 4,
 "nbformat_minor": 5
}
