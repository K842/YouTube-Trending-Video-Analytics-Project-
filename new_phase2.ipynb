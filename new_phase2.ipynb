{
 "cells": [
  {
   "cell_type": "code",
   "execution_count": 2,
   "id": "f502c9e8",
   "metadata": {},
   "outputs": [],
   "source": [
    "import pandas as pd\n",
    "import sqlite3\n",
    "df=pd.read_csv('final_videos_with_duration.csv')"
   ]
  },
  {
   "cell_type": "code",
   "execution_count": 3,
   "id": "054c9a83",
   "metadata": {},
   "outputs": [
    {
     "name": "stdout",
     "output_type": "stream",
     "text": [
      "✅ Fresh table 'trending_videos' created in SQLite database!\n"
     ]
    }
   ],
   "source": [
    "conn = sqlite3.connect('youtube_trending.db')\n",
    "\n",
    "# Save to database\n",
    "df.to_sql('trending_videos', conn, if_exists='replace', index=False)\n",
    "\n",
    "print(\"✅ Fresh table 'trending_videos' created in SQLite database!\")"
   ]
  },
  {
   "cell_type": "code",
   "execution_count": 5,
   "id": "409c3a6b",
   "metadata": {},
   "outputs": [
    {
     "name": "stdout",
     "output_type": "stream",
     "text": [
      "   category_id     avg_views\n",
      "0           10  9.194677e+06\n",
      "1           30  3.065001e+06\n",
      "2            1  2.962616e+06\n",
      "3           29  2.096646e+06\n",
      "4           17  1.896538e+06\n"
     ]
    }
   ],
   "source": [
    "query='''SELECT category_id, AVG(views) AS avg_views\n",
    "FROM trending_videos\n",
    "GROUP BY category_id\n",
    "ORDER BY avg_views DESC\n",
    "LIMIT 5;\n",
    "'''\n",
    "result_df=pd.read_sql_query(query,conn)\n",
    "print(result_df)"
   ]
  },
  {
   "cell_type": "code",
   "execution_count": 6,
   "id": "43624f15",
   "metadata": {},
   "outputs": [
    {
     "name": "stdout",
     "output_type": "stream",
     "text": [
      "   category_id      avg_likes\n",
      "0           10  224803.195981\n",
      "1           29  156691.960317\n",
      "2           23   61261.602938\n",
      "3            1   58154.659878\n",
      "4           20   54613.103706\n"
     ]
    }
   ],
   "source": [
    "query='''SELECT category_id, AVG(likes) AS avg_likes\n",
    "FROM trending_videos\n",
    "GROUP BY category_id\n",
    "ORDER BY avg_likes DESC\n",
    "LIMIT 5;\n",
    "'''\n",
    "result_df=pd.read_sql_query(query,conn)\n",
    "print(result_df)"
   ]
  },
  {
   "cell_type": "code",
   "execution_count": 7,
   "id": "b599d3f4",
   "metadata": {},
   "outputs": [
    {
     "name": "stdout",
     "output_type": "stream",
     "text": [
      "    category_id  avg_duration\n",
      "0            10     16.835575\n",
      "1            20     13.397604\n",
      "2             1     12.705927\n",
      "3            15     12.389842\n",
      "4            26     10.660500\n",
      "5            19     10.005929\n",
      "6            29      9.892857\n",
      "7            22      9.800228\n",
      "8            17      9.748337\n",
      "9            24      9.563883\n",
      "10           28      9.474215\n",
      "11           23      9.111774\n",
      "12           27      7.870958\n",
      "13            2      7.631667\n",
      "14           43      7.560284\n",
      "15           30      7.250000\n",
      "16           25      7.073160\n"
     ]
    }
   ],
   "source": [
    "query='''SELECT category_id, AVG(trending_duration) AS avg_duration\n",
    "FROM trending_videos\n",
    "GROUP BY category_id\n",
    "ORDER BY avg_duration DESC;\n",
    "'''\n",
    "result_df=pd.read_sql_query(query,conn)\n",
    "print(result_df)"
   ]
  },
  {
   "cell_type": "code",
   "execution_count": 8,
   "id": "44b58442",
   "metadata": {},
   "outputs": [
    {
     "name": "stdout",
     "output_type": "stream",
     "text": [
      "  country                                              title  \\\n",
      "0      IN  స‌మంత కంట‌త‌డి | Samantha became EMOTIONAL @ S...   \n",
      "1      UK                                    To Our Daughter   \n",
      "2      US        Sam Smith - Pray (Official Video) ft. Logic   \n",
      "\n",
      "       channel_title  max_trending_days     views  \n",
      "0      Friday Poster                186     31052  \n",
      "1       Kylie Jenner                 38  20921796  \n",
      "2  SamSmithWorldVEVO                 29    641944  \n"
     ]
    }
   ],
   "source": [
    "query='''SELECT country, \n",
    "       title, \n",
    "       channel_title, \n",
    "       MAX(trending_duration) AS max_trending_days, \n",
    "       views\n",
    "FROM trending_videos\n",
    "GROUP BY country\n",
    "ORDER BY country;\n",
    "'''\n",
    "result_df=pd.read_sql_query(query,conn)\n",
    "print(result_df)"
   ]
  },
  {
   "cell_type": "code",
   "execution_count": 9,
   "id": "844ae67c",
   "metadata": {},
   "outputs": [
    {
     "name": "stdout",
     "output_type": "stream",
     "text": [
      "✅ Saved: 'final_ready_for_powerbi.csv'\n"
     ]
    }
   ],
   "source": [
    "df.to_csv('final_ready_for_powerbi.csv', index=False)\n",
    "print(\"✅ Saved: 'final_ready_for_powerbi.csv'\")\n"
   ]
  }
 ],
 "metadata": {
  "kernelspec": {
   "display_name": "Python 3",
   "language": "python",
   "name": "python3"
  },
  "language_info": {
   "codemirror_mode": {
    "name": "ipython",
    "version": 3
   },
   "file_extension": ".py",
   "mimetype": "text/x-python",
   "name": "python",
   "nbconvert_exporter": "python",
   "pygments_lexer": "ipython3",
   "version": "3.13.3"
  }
 },
 "nbformat": 4,
 "nbformat_minor": 5
}
