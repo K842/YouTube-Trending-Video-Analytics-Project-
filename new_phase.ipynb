{
 "cells": [
  {
   "cell_type": "code",
   "execution_count": 2,
   "id": "7487f9b0",
   "metadata": {},
   "outputs": [],
   "source": [
    "import pandas as pd"
   ]
  },
  {
   "cell_type": "code",
   "execution_count": 3,
   "id": "11997196",
   "metadata": {},
   "outputs": [],
   "source": [
    "df=pd.read_csv('videos_with_sentiment.csv')"
   ]
  },
  {
   "cell_type": "code",
   "execution_count": 4,
   "id": "568d9be8",
   "metadata": {},
   "outputs": [
    {
     "name": "stdout",
     "output_type": "stream",
     "text": [
      "Index(['video_id', 'trending_date', 'title', 'channel_title', 'category_id',\n",
      "       'publish_time', 'tags', 'views', 'likes', 'dislikes', 'comment_count',\n",
      "       'thumbnail_link', 'comments_disabled', 'ratings_disabled',\n",
      "       'video_error_or_removed', 'description', 'country', 'title_sentiment',\n",
      "       'tag_sentiment', 'title_sentiment_label', 'tag_sentiment_label'],\n",
      "      dtype='object')\n"
     ]
    }
   ],
   "source": [
    "print(df.columns)"
   ]
  },
  {
   "cell_type": "code",
   "execution_count": 5,
   "id": "837b6a5e",
   "metadata": {},
   "outputs": [
    {
     "name": "stdout",
     "output_type": "stream",
     "text": [
      "      video_id trending_date\n",
      "0  2kyS6SvSYSE      17.14.11\n",
      "1  1ZAPwfrtAFY      17.14.11\n",
      "2  5qpjK5DgCt4      17.14.11\n",
      "3  puqaWrEC7tY      17.14.11\n",
      "4  d380meD0W0M      17.14.11\n",
      "5  gHZ1Qz0KiKM      17.14.11\n",
      "6  39idVpFF7NQ      17.14.11\n",
      "7  nc99ccSXST0      17.14.11\n",
      "8  jr9QtXwC9vc      17.14.11\n",
      "9  TUmyygCMMGA      17.14.11\n"
     ]
    }
   ],
   "source": [
    "print(df[['video_id', 'trending_date']].head(10))"
   ]
  },
  {
   "cell_type": "code",
   "execution_count": 6,
   "id": "8d4c29ec",
   "metadata": {},
   "outputs": [
    {
     "name": "stdout",
     "output_type": "stream",
     "text": [
      "      video_id country  trending_duration\n",
      "0  2kyS6SvSYSE      US                  7\n",
      "1  1ZAPwfrtAFY      US                  7\n",
      "2  5qpjK5DgCt4      US                  7\n",
      "3  puqaWrEC7tY      US                  7\n",
      "4  d380meD0W0M      US                  6\n",
      "5  gHZ1Qz0KiKM      US                  7\n",
      "6  39idVpFF7NQ      US                  5\n",
      "7  nc99ccSXST0      US                  6\n",
      "8  jr9QtXwC9vc      US                  2\n",
      "9  TUmyygCMMGA      US                  2\n"
     ]
    }
   ],
   "source": [
    "duration_df = df.groupby(['video_id', 'country'])['trending_date'].nunique().reset_index()\n",
    "duration_df = duration_df.rename(columns={'trending_date': 'trending_duration'})\n",
    "\n",
    "df = pd.merge(df, duration_df, on=['video_id', 'country'], how='left')\n",
    "\n",
    "print(df[['video_id', 'country', 'trending_duration']].head(10))"
   ]
  },
  {
   "cell_type": "code",
   "execution_count": 7,
   "id": "dae6109f",
   "metadata": {},
   "outputs": [
    {
     "name": "stdout",
     "output_type": "stream",
     "text": [
      "Index(['video_id', 'trending_date', 'title', 'channel_title', 'category_id',\n",
      "       'publish_time', 'tags', 'views', 'likes', 'dislikes', 'comment_count',\n",
      "       'thumbnail_link', 'comments_disabled', 'ratings_disabled',\n",
      "       'video_error_or_removed', 'description', 'country', 'title_sentiment',\n",
      "       'tag_sentiment', 'title_sentiment_label', 'tag_sentiment_label',\n",
      "       'trending_duration'],\n",
      "      dtype='object')\n"
     ]
    }
   ],
   "source": [
    "print(df.columns)"
   ]
  },
  {
   "cell_type": "code",
   "execution_count": 8,
   "id": "426a79e5",
   "metadata": {},
   "outputs": [
    {
     "name": "stdout",
     "output_type": "stream",
     "text": [
      "0         17.14.11\n",
      "1         17.14.11\n",
      "2         17.14.11\n",
      "3         17.14.11\n",
      "4         17.14.11\n",
      "            ...   \n",
      "117212    18.14.06\n",
      "117213    18.14.06\n",
      "117214    18.14.06\n",
      "117215    18.14.06\n",
      "117216    18.14.06\n",
      "Name: trending_date, Length: 117217, dtype: object\n"
     ]
    }
   ],
   "source": [
    "print(df.trending_date)"
   ]
  },
  {
   "cell_type": "code",
   "execution_count": 9,
   "id": "20c2ae7b",
   "metadata": {},
   "outputs": [
    {
     "name": "stdout",
     "output_type": "stream",
     "text": [
      "✅ File saved as 'final_videos_with_duration.csv'!\n"
     ]
    }
   ],
   "source": [
    "df.to_csv('final_videos_with_duration.csv', index=False)\n",
    "print(\"✅ File saved as 'final_videos_with_duration.csv'!\")\n"
   ]
  }
 ],
 "metadata": {
  "kernelspec": {
   "display_name": "Python 3",
   "language": "python",
   "name": "python3"
  },
  "language_info": {
   "codemirror_mode": {
    "name": "ipython",
    "version": 3
   },
   "file_extension": ".py",
   "mimetype": "text/x-python",
   "name": "python",
   "nbconvert_exporter": "python",
   "pygments_lexer": "ipython3",
   "version": "3.13.3"
  }
 },
 "nbformat": 4,
 "nbformat_minor": 5
}
