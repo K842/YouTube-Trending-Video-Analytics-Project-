{
 "cells": [
  {
   "cell_type": "code",
   "execution_count": 2,
   "id": "abcc1073",
   "metadata": {},
   "outputs": [
    {
     "name": "stdout",
     "output_type": "stream",
     "text": [
      "✅ Data loaded into SQLite DB!\n"
     ]
    }
   ],
   "source": [
    "import sqlite3\n",
    "import pandas as pd\n",
    "\n",
    "# Load your dataset\n",
    "df = pd.read_csv('videos_with_sentiment.csv')\n",
    "\n",
    "# Connect to SQLite (creates a new DB file)\n",
    "conn = sqlite3.connect('youtube_trending.db')\n",
    "\n",
    "# Save dataframe as a table\n",
    "df.to_sql('trending_videos', conn, if_exists='replace', index=False)\n",
    "\n",
    "print(\"✅ Data loaded into SQLite DB!\")\n"
   ]
  },
  {
   "cell_type": "code",
   "execution_count": 3,
   "id": "676f4ee4",
   "metadata": {},
   "outputs": [
    {
     "name": "stdout",
     "output_type": "stream",
     "text": [
      "   category_id     avg_views\n",
      "0           10  9.194677e+06\n",
      "1           30  3.065001e+06\n",
      "2            1  2.962616e+06\n",
      "3           29  2.096646e+06\n",
      "4           17  1.896538e+06\n"
     ]
    }
   ],
   "source": [
    "query = \"\"\"\n",
    "SELECT category_id, AVG(views) AS avg_views\n",
    "FROM trending_videos\n",
    "GROUP BY category_id\n",
    "ORDER BY avg_views DESC\n",
    "LIMIT 5;\n",
    "\"\"\"\n",
    "\n",
    "result_df = pd.read_sql_query(query, conn)\n",
    "print(result_df)\n"
   ]
  },
  {
   "cell_type": "code",
   "execution_count": 6,
   "id": "42b03e65",
   "metadata": {},
   "outputs": [
    {
     "name": "stdout",
     "output_type": "stream",
     "text": [
      "   category_id      avg_likes\n",
      "0           10  224803.195981\n",
      "1           29  156691.960317\n",
      "2           23   61261.602938\n",
      "3            1   58154.659878\n",
      "4           20   54613.103706\n"
     ]
    }
   ],
   "source": [
    "query = \"\"\"\n",
    "SELECT category_id, AVG(likes) AS avg_likes\n",
    "FROM trending_videos\n",
    "GROUP BY category_id\n",
    "ORDER BY avg_likes DESC\n",
    "LIMIT 5;\n",
    "\"\"\"\n",
    "\n",
    "result_df = pd.read_sql_query(query, conn)\n",
    "print(result_df)\n"
   ]
  },
  {
   "cell_type": "code",
   "execution_count": 9,
   "id": "a3bfb8c2",
   "metadata": {},
   "outputs": [
    {
     "name": "stdout",
     "output_type": "stream",
     "text": [
      "   category_id  avg_day_trending\n",
      "0           30         18.067500\n",
      "1           15         17.991297\n",
      "2           10         17.969527\n",
      "3            1         17.945176\n",
      "4           29         17.943135\n"
     ]
    }
   ],
   "source": [
    "query = \"\"\"\n",
    "SELECT category_id, AVG(trending_date) AS avg_day_trending\n",
    "FROM trending_videos\n",
    "GROUP BY category_id\n",
    "ORDER BY avg_day_trending DESC\n",
    "LIMIT 5;\n",
    "\"\"\"\n",
    "\n",
    "result_df = pd.read_sql_query(query, conn)\n",
    "print(result_df)\n"
   ]
  },
  {
   "cell_type": "code",
   "execution_count": 10,
   "id": "4da24e9a",
   "metadata": {},
   "outputs": [
    {
     "name": "stdout",
     "output_type": "stream",
     "text": [
      "Index(['video_id', 'trending_date', 'title', 'channel_title', 'category_id',\n",
      "       'publish_time', 'tags', 'views', 'likes', 'dislikes', 'comment_count',\n",
      "       'thumbnail_link', 'comments_disabled', 'ratings_disabled',\n",
      "       'video_error_or_removed', 'description', 'country', 'title_sentiment',\n",
      "       'tag_sentiment', 'title_sentiment_label', 'tag_sentiment_label'],\n",
      "      dtype='object')\n"
     ]
    }
   ],
   "source": [
    "print(df.columns)"
   ]
  },
  {
   "cell_type": "code",
   "execution_count": 11,
   "id": "994baca2",
   "metadata": {},
   "outputs": [
    {
     "name": "stdout",
     "output_type": "stream",
     "text": [
      "  country title_sentiment_label  count\n",
      "0      IN               Neutral  25324\n",
      "1      IN              Positive   7592\n",
      "2      IN              Negative   4436\n",
      "3      UK               Neutral  22168\n",
      "4      UK              Positive   9034\n",
      "5      UK              Negative   7714\n",
      "6      US               Neutral  22680\n",
      "7      US              Positive  10521\n",
      "8      US              Negative   7748\n"
     ]
    }
   ],
   "source": [
    "query = \"\"\"\n",
    "SELECT country, title_sentiment_label, COUNT(*) AS count\n",
    "FROM trending_videos\n",
    "GROUP BY country, title_sentiment_label\n",
    "ORDER BY country, count DESC;\n",
    "\"\"\"\n",
    "\n",
    "result_df = pd.read_sql_query(query, conn)\n",
    "print(result_df)\n"
   ]
  },
  {
   "cell_type": "code",
   "execution_count": 12,
   "id": "6f7eb5f8",
   "metadata": {},
   "outputs": [],
   "source": [
    "result_df.to_csv('top_categories_avg_views.csv', index=False)\n"
   ]
  },
  {
   "cell_type": "code",
   "execution_count": 13,
   "id": "a6eae388",
   "metadata": {},
   "outputs": [
    {
     "name": "stderr",
     "output_type": "stream",
     "text": [
      "C:\\Users\\Sayan Saha\\AppData\\Local\\Temp\\ipykernel_22248\\716050543.py:1: UserWarning: Could not infer format, so each element will be parsed individually, falling back to `dateutil`. To ensure parsing is consistent and as-expected, please specify a format.\n",
      "  df['trending_date'] = pd.to_datetime(df['trending_date'], errors='coerce')\n"
     ]
    }
   ],
   "source": [
    "df['trending_date'] = pd.to_datetime(df['trending_date'], errors='coerce')\n"
   ]
  },
  {
   "cell_type": "code",
   "execution_count": 14,
   "id": "2137bfbd",
   "metadata": {},
   "outputs": [],
   "source": [
    "# Group by video_id and country (to handle each country separately)\n",
    "duration_df = df.groupby(['video_id', 'country'])['trending_date'].nunique().reset_index()\n",
    "\n",
    "# Rename column\n",
    "duration_df = duration_df.rename(columns={'trending_date': 'trending_duration'})\n",
    "\n",
    "# Merge back into main dataframe\n",
    "df = pd.merge(df, duration_df, on=['video_id', 'country'], how='left')\n"
   ]
  },
  {
   "cell_type": "code",
   "execution_count": 15,
   "id": "41c4ad9b",
   "metadata": {},
   "outputs": [
    {
     "name": "stdout",
     "output_type": "stream",
     "text": [
      "✅ Trending duration column added and file saved as 'merged_trending_videos_with_duration.csv'!\n"
     ]
    }
   ],
   "source": [
    "df.to_csv('final_video_duration.csv', index=False)\n",
    "print(\"✅ Trending duration column added and file saved as 'merged_trending_videos_with_duration.csv'!\")\n"
   ]
  },
  {
   "cell_type": "code",
   "execution_count": null,
   "id": "b487e422",
   "metadata": {},
   "outputs": [],
   "source": []
  }
 ],
 "metadata": {
  "kernelspec": {
   "display_name": "Python 3",
   "language": "python",
   "name": "python3"
  },
  "language_info": {
   "codemirror_mode": {
    "name": "ipython",
    "version": 3
   },
   "file_extension": ".py",
   "mimetype": "text/x-python",
   "name": "python",
   "nbconvert_exporter": "python",
   "pygments_lexer": "ipython3",
   "version": "3.13.3"
  }
 },
 "nbformat": 4,
 "nbformat_minor": 5
}
